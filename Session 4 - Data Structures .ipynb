{
 "cells": [
  {
   "cell_type": "code",
   "execution_count": 3,
   "id": "737b84ef",
   "metadata": {},
   "outputs": [
    {
     "name": "stdout",
     "output_type": "stream",
     "text": [
      "18\n"
     ]
    }
   ],
   "source": [
    "# Q1. Write a Python program to get the largest number from a list. \n",
    "# sample list : [9,4,3,18,7,16,14] \n",
    "\n",
    "q1 = [9,4,3,18,7,16,14] \n",
    "\n",
    "maximum = q1[0]\n",
    "\n",
    "for i in q1:\n",
    "    \n",
    "    if i > maximum:\n",
    "        \n",
    "        maximum = i\n",
    "             \n",
    "print(maximum)\n",
    "\n",
    "#alternative answers \n",
    "\n",
    "\n",
    "#answer : 1 \n",
    "# print(max(q1))\n",
    "\n",
    "\n",
    "\n",
    "#answer : 2\n",
    "\n",
    "# q1 = [9,4,3,18,7,16,14] \n",
    "\n",
    "# q1.sort(reverse = True)\n",
    "\n",
    "\n",
    "# print(q1[0])"
   ]
  },
  {
   "cell_type": "code",
   "execution_count": 9,
   "id": "53812a87",
   "metadata": {},
   "outputs": [
    {
     "name": "stdout",
     "output_type": "stream",
     "text": [
      "[40, 10, 80, 50, 20, 60, 30]\n"
     ]
    }
   ],
   "source": [
    "# Q2. Write a Python program to remove duplicates from a list. \n",
    "# sample list : [10, 20, 30, 20, 10, 50, 60, 40, 80, 50, 40]\n",
    "\n",
    "\n",
    "q2 = [10, 20, 30, 20, 10, 50, 60, 40, 80, 50, 40]\n",
    "\n",
    "no_dupes = []\n",
    "\n",
    "\n",
    "for i in q2:\n",
    "    \n",
    "    if i not in no_dupes:\n",
    "        \n",
    "        no_dupes.append(i)\n",
    "\n",
    "print(no_dupes)\n",
    "\n",
    "\n",
    "\n",
    "# alternative answer\n",
    "\n",
    "# q2 = [10, 20, 30, 20, 10, 50, 60, 40, 80, 50, 40]\n",
    "\n",
    "\n",
    "# set_q2 = set(q2)\n",
    "\n",
    "\n",
    "# print(list(set_q2))"
   ]
  },
  {
   "cell_type": "code",
   "execution_count": 14,
   "id": "c863fc89",
   "metadata": {},
   "outputs": [
    {
     "name": "stdout",
     "output_type": "stream",
     "text": [
      "[18, 16, 14, 9, 7, 4, 3]\n"
     ]
    }
   ],
   "source": [
    "# Q3. Sort the following list [9,4,3,18,7,16,14] in decending order\n",
    "\n",
    "q3 = [9,4,3,18,7,16,14]\n",
    "\n",
    "q3.sort(reverse = True)\n",
    "\n",
    "print(q3)"
   ]
  },
  {
   "cell_type": "code",
   "execution_count": 23,
   "id": "230f1dbb",
   "metadata": {
    "scrolled": true
   },
   "outputs": [
    {
     "name": "stdout",
     "output_type": "stream",
     "text": [
      "Final list :  [9, 3, 7]\n"
     ]
    }
   ],
   "source": [
    "# Q4. Write a Python program to print the numbers of a specified list after removing even numbers from it. \n",
    "# sample list: [9,4,3,18,7,16,14] \n",
    "\n",
    "q4 = [9,4,3,18,7,16,14] \n",
    "\n",
    "q4_odd = []\n",
    "\n",
    "\n",
    "for i in q4:\n",
    "    \n",
    "    if i % 2 != 0:\n",
    "        \n",
    "        q4_odd.append(i)\n",
    "\n",
    "        \n",
    "print(\"Final list : \" , q4_odd)"
   ]
  },
  {
   "cell_type": "code",
   "execution_count": 33,
   "id": "0fa1af70",
   "metadata": {},
   "outputs": [
    {
     "name": "stdout",
     "output_type": "stream",
     "text": [
      "* \n",
      "* * \n",
      "* * * \n",
      "* * * * \n",
      "* * * * * \n",
      "* * * * \n",
      "* * * \n",
      "* * \n",
      "* \n"
     ]
    }
   ],
   "source": [
    "# Q5. (optional)\n",
    "\n",
    "# Write a program to print the following start pattern using the for loop\n",
    "\n",
    "# * \n",
    "# * * \n",
    "# * * * \n",
    "# * * * * \n",
    "# * * * * * \n",
    "# * * * * \n",
    "# * * * \n",
    "# * * \n",
    "# *\n",
    "\n",
    "\n",
    "for i in range(1,6):\n",
    "    \n",
    "    for j in range(i):\n",
    "\n",
    "        print(\"*\", end = \" \")\n",
    "        \n",
    "    print()\n",
    "    \n",
    "for i in range(4,0,-1):\n",
    "    \n",
    "    for j in range(i):\n",
    "        \n",
    "        print(\"*\" , end = \" \")\n",
    "        \n",
    "    print()"
   ]
  },
  {
   "cell_type": "markdown",
   "id": "5296659f",
   "metadata": {},
   "source": [
    "## Data Structures"
   ]
  },
  {
   "cell_type": "code",
   "execution_count": 42,
   "id": "feb779bb",
   "metadata": {},
   "outputs": [
    {
     "data": {
      "text/plain": [
       "(1, 2)"
      ]
     },
     "execution_count": 42,
     "metadata": {},
     "output_type": "execute_result"
    }
   ],
   "source": [
    "#Data structure conversions\n",
    "# list() > []    ### tuple()  > ()    ### set() > {}  ### dictionary : dict() > {}\n",
    " \n",
    "#Tuple\n",
    "\n",
    "t1 = (2,10,\"mohamed\",\"Ali\")\n",
    "\n",
    "t2 = (1,2,3,4)\n",
    "\n",
    "t3 = t1 + t2\n",
    "\n",
    "print(list((t3)))"
   ]
  },
  {
   "cell_type": "code",
   "execution_count": 39,
   "id": "597e674a",
   "metadata": {},
   "outputs": [
    {
     "data": {
      "text/plain": [
       "str"
      ]
     },
     "execution_count": 39,
     "metadata": {},
     "output_type": "execute_result"
    }
   ],
   "source": [
    "#type > shows the type of an object\n",
    "k = \"aksd\"\n",
    "\n",
    "type(k)"
   ]
  },
  {
   "cell_type": "code",
   "execution_count": 47,
   "id": "00877c66",
   "metadata": {},
   "outputs": [
    {
     "name": "stdout",
     "output_type": "stream",
     "text": [
      "{1, 2, 3, 4, 1.687, 10, 15, 'Ali'}\n"
     ]
    }
   ],
   "source": [
    "#Set\n",
    "\n",
    "s = {2, 10, 'mohamed', 'Ali', 1, 2, 3, 4}\n",
    "\n",
    "#add\n",
    "s.add(15)\n",
    "\n",
    "s.add(1.687)\n",
    "\n",
    "#remove\n",
    "s.remove(\"mohamed\")\n",
    "\n",
    "print(s)"
   ]
  },
  {
   "cell_type": "code",
   "execution_count": 54,
   "id": "f34dd2d7",
   "metadata": {},
   "outputs": [
    {
     "data": {
      "text/plain": [
       "'BMW'"
      ]
     },
     "execution_count": 54,
     "metadata": {},
     "output_type": "execute_result"
    }
   ],
   "source": [
    "#Dictionary > every item is split into a key and a value\n",
    "\n",
    "car = {\"Brand\" : \"BMW\" , \"Color\" : \"Blue\" , \"Year\" : 2005 , \"Owners\" : [\"Ahmed\" , \"Ibrahim\"]}\n",
    "\n",
    "\n",
    "car[\"Brand\"]"
   ]
  },
  {
   "cell_type": "code",
   "execution_count": 56,
   "id": "eb81106f",
   "metadata": {},
   "outputs": [
    {
     "name": "stdout",
     "output_type": "stream",
     "text": [
      "{'Brand': 'BMW', 'Color': 'Blue', 'Year': 2005, 'Owners': ['Ahmed', 'Ibrahim'], 'Country': 'Germany'}\n"
     ]
    }
   ],
   "source": [
    "#Adding values to a dictionary\n",
    "\n",
    "car[\"Country\"] = \"Germany\"\n",
    "\n",
    "print(car)"
   ]
  },
  {
   "cell_type": "code",
   "execution_count": 57,
   "id": "56bfddfc",
   "metadata": {},
   "outputs": [
    {
     "name": "stdout",
     "output_type": "stream",
     "text": [
      "{'Brand': 'BMW', 'Color': 'Black', 'Year': 2005, 'Owners': ['Ahmed', 'Ibrahim'], 'Country': 'Germany'}\n"
     ]
    }
   ],
   "source": [
    "#modifying values\n",
    "\n",
    "car[\"Color\"] = \"Black\"\n",
    "\n",
    "print(car)"
   ]
  },
  {
   "cell_type": "code",
   "execution_count": 58,
   "id": "2e77c8d3",
   "metadata": {},
   "outputs": [
    {
     "name": "stdout",
     "output_type": "stream",
     "text": [
      "{'Brand': 'BMW', 'Color': 'Black', 'Year': [2006, 2010], 'Owners': ['Ahmed', 'Ibrahim'], 'Country': 'Germany'}\n"
     ]
    }
   ],
   "source": [
    "car[\"Year\"] = [2006,2010]\n",
    "\n",
    "print(car)"
   ]
  },
  {
   "cell_type": "code",
   "execution_count": 59,
   "id": "f960d3b0",
   "metadata": {},
   "outputs": [
    {
     "name": "stdout",
     "output_type": "stream",
     "text": [
      "{'Color': 'Black', 'Year': [2006, 2010], 'Owners': ['Ahmed', 'Ibrahim'], 'Country': 'Germany'}\n"
     ]
    }
   ],
   "source": [
    "#remove\n",
    "\n",
    "car.pop(\"Brand\")\n",
    "\n",
    "\n",
    "print(car)"
   ]
  },
  {
   "cell_type": "code",
   "execution_count": 62,
   "id": "c1cfc069",
   "metadata": {},
   "outputs": [
    {
     "data": {
      "text/plain": [
       "'Blue'"
      ]
     },
     "execution_count": 62,
     "metadata": {},
     "output_type": "execute_result"
    }
   ],
   "source": [
    "car = {\"Brand\" : \"BMW\" , \"Color\" : \"Blue\" , \"Year\" : 2005 , \"Owners\" : [\"Ahmed\" , \"Ibrahim\"]}\n",
    "\n",
    "car.pop(\"Color\")"
   ]
  },
  {
   "cell_type": "code",
   "execution_count": 63,
   "id": "420de0bf",
   "metadata": {},
   "outputs": [
    {
     "name": "stdout",
     "output_type": "stream",
     "text": [
      "{'Brand': 'BMW', 'Year': 2005, 'Owners': ['Ahmed', 'Ibrahim'], 'Horse Power': 300}\n"
     ]
    }
   ],
   "source": [
    "car[\"Horse Power\"] = 300\n",
    "\n",
    "print(car)"
   ]
  },
  {
   "cell_type": "code",
   "execution_count": 64,
   "id": "6faeda4b",
   "metadata": {},
   "outputs": [
    {
     "name": "stdout",
     "output_type": "stream",
     "text": [
      "{'Brand': 'BMW', 'Year': 2005, 'Owners': ['Ahmed', 'Ibrahim'], 'Horse Power': 450}\n"
     ]
    }
   ],
   "source": [
    "car[\"Horse Power\"] = 450\n",
    "\n",
    "print(car)"
   ]
  },
  {
   "cell_type": "code",
   "execution_count": 65,
   "id": "f31c2ecd",
   "metadata": {},
   "outputs": [
    {
     "name": "stdout",
     "output_type": "stream",
     "text": [
      "9\n",
      "4\n",
      "3\n",
      "18\n",
      "7\n",
      "16\n",
      "14\n"
     ]
    }
   ],
   "source": [
    "#looping in data structures\n",
    "#list \n",
    "v1 = [9,4,3,18,7,16,14] \n",
    "\n",
    "\n",
    "for i in v1:\n",
    "    \n",
    "    print(i)"
   ]
  },
  {
   "cell_type": "code",
   "execution_count": 66,
   "id": "5b1ec8ab",
   "metadata": {},
   "outputs": [
    {
     "name": "stdout",
     "output_type": "stream",
     "text": [
      "9\n",
      "4\n",
      "3\n",
      "18\n",
      "7\n",
      "16\n",
      "14\n"
     ]
    }
   ],
   "source": [
    "#tuple \n",
    "v2 = (9,4,3,18,7,16,14)\n",
    "\n",
    "for i in v2:\n",
    "    \n",
    "    print(i)\n",
    "    "
   ]
  },
  {
   "cell_type": "code",
   "execution_count": 67,
   "id": "3eab7e2d",
   "metadata": {},
   "outputs": [
    {
     "name": "stdout",
     "output_type": "stream",
     "text": [
      "16\n",
      "18\n",
      "3\n",
      "4\n",
      "7\n",
      "9\n",
      "14\n"
     ]
    }
   ],
   "source": [
    "#set\n",
    "v3 = {9,4,3,18,7,16,14}\n",
    "\n",
    "for i in v3:\n",
    "    \n",
    "    print(i)"
   ]
  },
  {
   "cell_type": "code",
   "execution_count": 70,
   "id": "7729e20f",
   "metadata": {},
   "outputs": [
    {
     "name": "stdout",
     "output_type": "stream",
     "text": [
      "('Brand', 'BMW')\n",
      "('Color', 'Blue')\n",
      "('Year', 2005)\n",
      "('Owners', ['Ahmed', 'Ibrahim'])\n"
     ]
    }
   ],
   "source": [
    "#dictionary\n",
    "car = {\"Brand\" : \"BMW\" , \"Color\" : \"Blue\" , \"Year\" : 2005 , \"Owners\" : [\"Ahmed\" , \"Ibrahim\"]}\n",
    "\n",
    "for i in car.items():\n",
    "    \n",
    "    print(i)"
   ]
  },
  {
   "cell_type": "code",
   "execution_count": 73,
   "id": "fd5709bf",
   "metadata": {},
   "outputs": [
    {
     "name": "stdout",
     "output_type": "stream",
     "text": [
      "Brand\n",
      "Color\n",
      "Year\n",
      "Owners\n"
     ]
    }
   ],
   "source": [
    "car = {\"Brand\" : \"BMW\" , \"Color\" : \"Blue\" , \"Year\" : 2005 , \"Owners\" : [\"Ahmed\" , \"Ibrahim\"]}\n",
    "\n",
    "for i in car.keys():\n",
    "    \n",
    "    print(i)"
   ]
  },
  {
   "cell_type": "code",
   "execution_count": 75,
   "id": "13d05090",
   "metadata": {},
   "outputs": [
    {
     "name": "stdout",
     "output_type": "stream",
     "text": [
      "BMW\n",
      "Blue\n",
      "2005\n",
      "['Ahmed', 'Ibrahim']\n"
     ]
    }
   ],
   "source": [
    "car = {\"Brand\" : \"BMW\" , \"Color\" : \"Blue\" , \"Year\" : 2005 , \"Owners\" : [\"Ahmed\" , \"Ibrahim\"]}\n",
    "\n",
    "for i in car.values():\n",
    "    \n",
    "    print(i)"
   ]
  },
  {
   "cell_type": "code",
   "execution_count": 74,
   "id": "528bddd9",
   "metadata": {},
   "outputs": [
    {
     "data": {
      "text/plain": [
       "dict_values(['BMW', 'Blue', 2005, ['Ahmed', 'Ibrahim']])"
      ]
     },
     "execution_count": 74,
     "metadata": {},
     "output_type": "execute_result"
    }
   ],
   "source": [
    "car.items()\n",
    "\n",
    "car.keys()\n",
    "\n",
    "car.values()"
   ]
  },
  {
   "cell_type": "code",
   "execution_count": 80,
   "id": "89751d9c",
   "metadata": {
    "scrolled": true
   },
   "outputs": [
    {
     "name": "stdout",
     "output_type": "stream",
     "text": [
      "{10: 1}\n",
      "{10: 1, 20: 1}\n",
      "{10: 1, 20: 1, 30: 1}\n",
      "{10: 1, 20: 2, 30: 1}\n",
      "{10: 2, 20: 2, 30: 1}\n",
      "{10: 2, 20: 2, 30: 1, 50: 1}\n",
      "{10: 2, 20: 2, 30: 1, 50: 1, 60: 1}\n",
      "{10: 2, 20: 2, 30: 1, 50: 1, 60: 1, 40: 1}\n",
      "{10: 2, 20: 2, 30: 1, 50: 1, 60: 1, 40: 1, 80: 1}\n",
      "{10: 2, 20: 2, 30: 1, 50: 2, 60: 1, 40: 1, 80: 1}\n",
      "{10: 2, 20: 2, 30: 1, 50: 2, 60: 1, 40: 2, 80: 1}\n",
      "{10: 3, 20: 2, 30: 1, 50: 2, 60: 1, 40: 2, 80: 1}\n",
      "{10: 4, 20: 2, 30: 1, 50: 2, 60: 1, 40: 2, 80: 1}\n",
      "{10: 4, 20: 3, 30: 1, 50: 2, 60: 1, 40: 2, 80: 1}\n",
      "{10: 4, 20: 3, 30: 1, 50: 3, 60: 1, 40: 2, 80: 1}\n",
      "{10: 4, 20: 3, 30: 1, 50: 3, 60: 2, 40: 2, 80: 1}\n"
     ]
    }
   ],
   "source": [
    "#Ex..\n",
    "\n",
    "#write a python program to count the occurances of values in a specified list\n",
    "#using a dictionary\n",
    "\n",
    "\n",
    "x = [10, 20, 30, 20, 10, 50, 60, 40, 80, 50, 40, 10, 10, 20, 50, 60]\n",
    "\n",
    "d = dict()\n",
    "\n",
    "for i in x:\n",
    "    \n",
    "    if i in d:\n",
    "        \n",
    "        d[i] += 1\n",
    "        \n",
    "    else:\n",
    "        \n",
    "        d[i] = 1\n",
    "    \n",
    "    \n",
    "    print(d)\n",
    "\n",
    "\n",
    "\n",
    "#alternative answer\n",
    "\n",
    "\n",
    "# for i in x:\n",
    "    \n",
    "#     if i not in d:\n",
    "        \n",
    "#         d[i] = 1\n",
    "        \n",
    "#     else:\n",
    "        \n",
    "#         d[i] += 1\n",
    "    \n",
    "    \n",
    "#     print(d)"
   ]
  },
  {
   "cell_type": "code",
   "execution_count": 107,
   "id": "e6a81d3f",
   "metadata": {},
   "outputs": [
    {
     "name": "stdout",
     "output_type": "stream",
     "text": [
      "[3, 4, 7, 9, 14, 16, 18]\n"
     ]
    }
   ],
   "source": [
    "#bubble sort algorithm\n",
    "\n",
    "x = [4,3,9,18,7,16,14]  #i = 6 , i+1 = 7 x[7]\n",
    "\n",
    "for j in range(len(x)):\n",
    "    \n",
    "    for i in range(len(x)-1):  #0 1 2 3 4 5 \n",
    "\n",
    "        if x[i] > x[i+1]:\n",
    "\n",
    "            x[i],x[i+1] = x[i+1],x[i]\n",
    "\n",
    "print(x)"
   ]
  },
  {
   "cell_type": "code",
   "execution_count": 117,
   "id": "e36ef57b",
   "metadata": {},
   "outputs": [
    {
     "name": "stdout",
     "output_type": "stream",
     "text": [
      "A\n",
      "B\n",
      "B\n",
      "B\n",
      "A\n",
      "B\n",
      "B\n",
      "B\n"
     ]
    }
   ],
   "source": [
    "#Nested loops\n",
    "\n",
    "for j in range(2):  # 0 1\n",
    "    \n",
    "    print(\"A\")\n",
    "    \n",
    "    for i in range(3): # 0 1 2\n",
    "\n",
    "        print(\"B\")"
   ]
  },
  {
   "cell_type": "code",
   "execution_count": 125,
   "id": "a7a0ec5e",
   "metadata": {},
   "outputs": [
    {
     "name": "stdout",
     "output_type": "stream",
     "text": [
      "15\n",
      "No\n"
     ]
    }
   ],
   "source": [
    "#WaterMelon\n",
    "\n",
    "w = int(input())\n",
    "\n",
    "\n",
    "if w == 2:\n",
    "    \n",
    "    print(\"No\")\n",
    "    \n",
    "elif w % 2 == 0:\n",
    "    \n",
    "    print(\"Yes\")\n",
    "    \n",
    "else:\n",
    "    \n",
    "    print(\"No\")\n",
    "\n",
    "\n",
    "#alternative solution\n",
    "\n",
    "# if w % 2 == 0 and w > 2:\n",
    "    \n",
    "#     print(\"Yes\")\n",
    "    \n",
    "# else:\n",
    "    \n",
    "#     print(\"No\")"
   ]
  },
  {
   "cell_type": "code",
   "execution_count": 143,
   "id": "2f4d4f96",
   "metadata": {
    "scrolled": true
   },
   "outputs": [
    {
     "name": "stdout",
     "output_type": "stream",
     "text": [
      "ahmed-ali-ibrahim-khaled-mohamed\n"
     ]
    }
   ],
   "source": [
    "#split - join\n",
    "# split : splits a string into a list\n",
    "# join : join a list into a string\n",
    "#sort the names in the string in alphabitical\n",
    "\n",
    "x = \"mohamed-ali-ibrahim-khaled-ahmed\"\n",
    "\n",
    "splitted = x.split(\"-\")  ### ['mohamed', 'ali', 'ibrahim', 'khaled', 'ahmed']\n",
    "\n",
    "\n",
    "splitted.sort()   ### ['ahmed', 'ali', 'ibrahim', 'khaled', 'mohamed']\n",
    "\n",
    "joined = \"-\".join(splitted)\n",
    "\n",
    "print(joined)"
   ]
  },
  {
   "cell_type": "code",
   "execution_count": null,
   "id": "a756020e",
   "metadata": {},
   "outputs": [],
   "source": []
  }
 ],
 "metadata": {
  "kernelspec": {
   "display_name": "Python 3 (ipykernel)",
   "language": "python",
   "name": "python3"
  },
  "language_info": {
   "codemirror_mode": {
    "name": "ipython",
    "version": 3
   },
   "file_extension": ".py",
   "mimetype": "text/x-python",
   "name": "python",
   "nbconvert_exporter": "python",
   "pygments_lexer": "ipython3",
   "version": "3.9.7"
  }
 },
 "nbformat": 4,
 "nbformat_minor": 5
}
